{
  "nbformat": 4,
  "nbformat_minor": 0,
  "metadata": {
    "colab": {
      "provenance": [],
      "authorship_tag": "ABX9TyN9q+fTFOowyIAWCfXwkrbe",
      "include_colab_link": true
    },
    "kernelspec": {
      "name": "python3",
      "display_name": "Python 3"
    },
    "language_info": {
      "name": "python"
    }
  },
  "cells": [
    {
      "cell_type": "markdown",
      "metadata": {
        "id": "view-in-github",
        "colab_type": "text"
      },
      "source": [
        "<a href=\"https://colab.research.google.com/github/gorligowri04/Python/blob/main/stringmethods.ipynb\" target=\"_parent\"><img src=\"https://colab.research.google.com/assets/colab-badge.svg\" alt=\"Open In Colab\"/></a>"
      ]
    },
    {
      "cell_type": "code",
      "execution_count": 1,
      "metadata": {
        "colab": {
          "base_uri": "https://localhost:8080/"
        },
        "id": "muqYigbSrvX_",
        "outputId": "c84d0793-1449-4b39-9981-e3be771ce5b3"
      },
      "outputs": [
        {
          "output_type": "stream",
          "name": "stdout",
          "text": [
            "Gowri\n"
          ]
        }
      ],
      "source": [
        "a=\"gowri\"\n",
        "x=a.capitalize()\n",
        "print(x)"
      ]
    },
    {
      "cell_type": "code",
      "source": [
        "a=\"Gowri Is Good Girl\"\n",
        "x=a.casefold()\n",
        "print(x)"
      ],
      "metadata": {
        "colab": {
          "base_uri": "https://localhost:8080/"
        },
        "id": "ulF-q8hRsI2d",
        "outputId": "823c3114-0248-4d3f-ba3f-018a1048f4f3"
      },
      "execution_count": 2,
      "outputs": [
        {
          "output_type": "stream",
          "name": "stdout",
          "text": [
            "gowri is good girl\n"
          ]
        }
      ]
    },
    {
      "cell_type": "code",
      "source": [
        "a=\"Gowri Is Good Girl\"\n",
        "x=a.count(\"o\")\n",
        "print(x)"
      ],
      "metadata": {
        "colab": {
          "base_uri": "https://localhost:8080/"
        },
        "id": "Oxv0-l0Asfv9",
        "outputId": "c2d7b3b3-0fa5-4148-b78d-6a5516315c46"
      },
      "execution_count": 4,
      "outputs": [
        {
          "output_type": "stream",
          "name": "stdout",
          "text": [
            "3\n"
          ]
        }
      ]
    },
    {
      "cell_type": "code",
      "source": [
        "a=\"Gowri Is Good Girl.\"\n",
        "x=a.endswith(\".\")\n",
        "print(x)"
      ],
      "metadata": {
        "colab": {
          "base_uri": "https://localhost:8080/"
        },
        "id": "gaf-WvIHsyEq",
        "outputId": "dee4aed4-80ea-40ad-f1e7-ab9bfaff6bf0"
      },
      "execution_count": 5,
      "outputs": [
        {
          "output_type": "stream",
          "name": "stdout",
          "text": [
            "True\n"
          ]
        }
      ]
    },
    {
      "cell_type": "code",
      "source": [
        "a=\"Gowri Is Good Girl\"\n",
        "x=a.startswith(\"G\")\n",
        "print(x)"
      ],
      "metadata": {
        "colab": {
          "base_uri": "https://localhost:8080/"
        },
        "id": "APmS-cI8s6fi",
        "outputId": "dc2b67e1-0c5e-4a13-e9d7-05294803ba02"
      },
      "execution_count": 6,
      "outputs": [
        {
          "output_type": "stream",
          "name": "stdout",
          "text": [
            "True\n"
          ]
        }
      ]
    },
    {
      "cell_type": "code",
      "source": [
        "a=\"Gowri Is Good Girl\"\n",
        "x=a.find(\"w\")\n",
        "print(x)"
      ],
      "metadata": {
        "colab": {
          "base_uri": "https://localhost:8080/"
        },
        "id": "ofoOQ4fHtEhU",
        "outputId": "90b5fa21-9d66-44cf-f4ad-1acfc717c5f6"
      },
      "execution_count": 7,
      "outputs": [
        {
          "output_type": "stream",
          "name": "stdout",
          "text": [
            "2\n"
          ]
        }
      ]
    },
    {
      "cell_type": "code",
      "source": [
        "a=\"Gowri Is Good Girl\"\n",
        "x=a.index(\"r\")\n",
        "print(x)"
      ],
      "metadata": {
        "colab": {
          "base_uri": "https://localhost:8080/"
        },
        "id": "HRuTgrh8tQVE",
        "outputId": "626e9fbf-75c7-46c0-f149-ed03611c4451"
      },
      "execution_count": 12,
      "outputs": [
        {
          "output_type": "stream",
          "name": "stdout",
          "text": [
            "3\n"
          ]
        }
      ]
    },
    {
      "cell_type": "code",
      "source": [
        "a=\"Gowri Is Good Girl\"\n",
        "x=a.find(\"z\")\n",
        "print(x)"
      ],
      "metadata": {
        "colab": {
          "base_uri": "https://localhost:8080/"
        },
        "id": "PafGZsUatewU",
        "outputId": "55caa4d5-65fb-45ce-cffa-daeb774f8321"
      },
      "execution_count": 11,
      "outputs": [
        {
          "output_type": "stream",
          "name": "stdout",
          "text": [
            "-1\n"
          ]
        }
      ]
    },
    {
      "cell_type": "code",
      "source": [
        "a=\"Gowri Is Good Girl\"\n",
        "x=a.rindex(\"r\")\n",
        "print(x)"
      ],
      "metadata": {
        "colab": {
          "base_uri": "https://localhost:8080/"
        },
        "id": "P9Ba5T90tpt8",
        "outputId": "12956fca-02a0-49e5-97ef-52ee37924de6"
      },
      "execution_count": 13,
      "outputs": [
        {
          "output_type": "stream",
          "name": "stdout",
          "text": [
            "16\n"
          ]
        }
      ]
    },
    {
      "cell_type": "code",
      "source": [
        "a=\"Gowri Is Good Girl\"\n",
        "x=a.rfind(\"r\")\n",
        "print(x)"
      ],
      "metadata": {
        "colab": {
          "base_uri": "https://localhost:8080/"
        },
        "id": "WUnMbMYWt6U1",
        "outputId": "b3abbd1d-1ec1-4c13-ddfe-3c6f5a8cb4d3"
      },
      "execution_count": 14,
      "outputs": [
        {
          "output_type": "stream",
          "name": "stdout",
          "text": [
            "16\n"
          ]
        }
      ]
    },
    {
      "cell_type": "code",
      "source": [
        "a=\"gowri is good girl\"\n",
        "x=a.title()\n",
        "print(x)"
      ],
      "metadata": {
        "colab": {
          "base_uri": "https://localhost:8080/"
        },
        "id": "76o4fJ12uB6J",
        "outputId": "56fb5ab3-3f61-4cbb-a227-3a76fdcbc4b1"
      },
      "execution_count": 16,
      "outputs": [
        {
          "output_type": "stream",
          "name": "stdout",
          "text": [
            "Gowri Is Good Girl\n"
          ]
        }
      ]
    },
    {
      "cell_type": "code",
      "source": [
        "a=\"Gowri Is Good Girl\"\n",
        "x=a.istitle()\n",
        "print(x)"
      ],
      "metadata": {
        "colab": {
          "base_uri": "https://localhost:8080/"
        },
        "id": "2TSdSOLPuQoJ",
        "outputId": "7417e13f-437b-4ab5-b864-017527052d60"
      },
      "execution_count": 17,
      "outputs": [
        {
          "output_type": "stream",
          "name": "stdout",
          "text": [
            "True\n"
          ]
        }
      ]
    },
    {
      "cell_type": "code",
      "source": [
        "a=\"gowri\"\n",
        "x=a.islower()\n",
        "print(x)"
      ],
      "metadata": {
        "colab": {
          "base_uri": "https://localhost:8080/"
        },
        "id": "YEh1V6QNub7r",
        "outputId": "5e785425-8606-4261-c93f-806405726c53"
      },
      "execution_count": 22,
      "outputs": [
        {
          "output_type": "stream",
          "name": "stdout",
          "text": [
            "True\n"
          ]
        }
      ]
    },
    {
      "cell_type": "code",
      "source": [
        "a=\"GOWRI\"\n",
        "x=a.isupper()\n",
        "print(x)"
      ],
      "metadata": {
        "colab": {
          "base_uri": "https://localhost:8080/"
        },
        "id": "Wh2hHto6uq7c",
        "outputId": "43a18ec9-7fb4-4835-c985-401f153ada1d"
      },
      "execution_count": 23,
      "outputs": [
        {
          "output_type": "stream",
          "name": "stdout",
          "text": [
            "True\n"
          ]
        }
      ]
    },
    {
      "cell_type": "code",
      "source": [
        "a=\"GOWRI\"\n",
        "x=a.lower()\n",
        "print(x)"
      ],
      "metadata": {
        "colab": {
          "base_uri": "https://localhost:8080/"
        },
        "id": "L3U_CwK9u9r4",
        "outputId": "dd7356c8-6255-4619-bdee-a9426906e5d7"
      },
      "execution_count": 24,
      "outputs": [
        {
          "output_type": "stream",
          "name": "stdout",
          "text": [
            "gowri\n"
          ]
        }
      ]
    },
    {
      "cell_type": "code",
      "source": [
        "a=\"Gowri\"\n",
        "x=a.upper()\n",
        "print(x)"
      ],
      "metadata": {
        "colab": {
          "base_uri": "https://localhost:8080/"
        },
        "id": "nQM9PniZvKom",
        "outputId": "7d4e5d2c-1855-48af-8fff-f4647355acf9"
      },
      "execution_count": 25,
      "outputs": [
        {
          "output_type": "stream",
          "name": "stdout",
          "text": [
            "GOWRI\n"
          ]
        }
      ]
    },
    {
      "cell_type": "code",
      "source": [
        "a=\"GOWRI\"\n",
        "x=a.isalpha()\n",
        "print(x)"
      ],
      "metadata": {
        "colab": {
          "base_uri": "https://localhost:8080/"
        },
        "id": "GZRYXa8TvWpZ",
        "outputId": "27a8fa4a-266a-4f61-c7ec-8ec21c72725a"
      },
      "execution_count": 26,
      "outputs": [
        {
          "output_type": "stream",
          "name": "stdout",
          "text": [
            "True\n"
          ]
        }
      ]
    },
    {
      "cell_type": "code",
      "source": [
        "a=\"GOWRI44\"\n",
        "x=a.isalnum()\n",
        "print(x)"
      ],
      "metadata": {
        "colab": {
          "base_uri": "https://localhost:8080/"
        },
        "id": "HmC5s4ULve5I",
        "outputId": "26012058-5746-4b85-9b04-1cbd4a808129"
      },
      "execution_count": 27,
      "outputs": [
        {
          "output_type": "stream",
          "name": "stdout",
          "text": [
            "True\n"
          ]
        }
      ]
    },
    {
      "cell_type": "code",
      "source": [
        "a=\"4444\"\n",
        "x=a.isnumeric()\n",
        "print(x)"
      ],
      "metadata": {
        "colab": {
          "base_uri": "https://localhost:8080/"
        },
        "id": "yOrzkYtjvlo1",
        "outputId": "e08ba2b9-5b9d-48c6-91a1-3b9cb74e23de"
      },
      "execution_count": 28,
      "outputs": [
        {
          "output_type": "stream",
          "name": "stdout",
          "text": [
            "True\n"
          ]
        }
      ]
    },
    {
      "cell_type": "code",
      "source": [
        "a=\"       GOWRI     \"\n",
        "x=a.strip()\n",
        "print(x)"
      ],
      "metadata": {
        "colab": {
          "base_uri": "https://localhost:8080/"
        },
        "id": "9r1oVFN5vsYA",
        "outputId": "62d45eb9-569d-4267-ef60-12366eb62e68"
      },
      "execution_count": 30,
      "outputs": [
        {
          "output_type": "stream",
          "name": "stdout",
          "text": [
            "GOWRI\n"
          ]
        }
      ]
    },
    {
      "cell_type": "code",
      "source": [
        "a=\"    GOWRI   \"\n",
        "x=a.rstrip()\n",
        "print(x)"
      ],
      "metadata": {
        "colab": {
          "base_uri": "https://localhost:8080/"
        },
        "id": "9jZAxgVxv9zU",
        "outputId": "f51badb4-d8a8-4677-d8f7-1592d5073357"
      },
      "execution_count": 32,
      "outputs": [
        {
          "output_type": "stream",
          "name": "stdout",
          "text": [
            "    GOWRI\n"
          ]
        }
      ]
    },
    {
      "cell_type": "code",
      "source": [
        "a=\"GOWRI     \"\n",
        "x=a.lstrip()\n",
        "print(x)"
      ],
      "metadata": {
        "colab": {
          "base_uri": "https://localhost:8080/"
        },
        "id": "3hOfHJ5lwiAk",
        "outputId": "33475598-b977-4263-e668-9ccc5294b490"
      },
      "execution_count": 33,
      "outputs": [
        {
          "output_type": "stream",
          "name": "stdout",
          "text": [
            "GOWRI     \n"
          ]
        }
      ]
    },
    {
      "cell_type": "code",
      "source": [
        "a=\"Gowri Is Good Girl\"\n",
        "x=a.swapcase()\n",
        "print(x)"
      ],
      "metadata": {
        "colab": {
          "base_uri": "https://localhost:8080/"
        },
        "id": "h-kJnGybwrb5",
        "outputId": "9ba2e4d1-a893-45ad-f981-38d21cdc8b1b"
      },
      "execution_count": 34,
      "outputs": [
        {
          "output_type": "stream",
          "name": "stdout",
          "text": [
            "gOWRI iS gOOD gIRL\n"
          ]
        }
      ]
    }
  ]
}