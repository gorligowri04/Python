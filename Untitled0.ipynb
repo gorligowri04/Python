{
  "cells": [
    {
      "cell_type": "markdown",
      "metadata": {
        "id": "view-in-github",
        "colab_type": "text"
      },
      "source": [
        "<a href=\"https://colab.research.google.com/github/gorligowri04/Python/blob/main/Untitled0.ipynb\" target=\"_parent\"><img src=\"https://colab.research.google.com/assets/colab-badge.svg\" alt=\"Open In Colab\"/></a>"
      ]
    },
    {
      "cell_type": "code",
      "execution_count": null,
      "metadata": {
        "colab": {
          "base_uri": "https://localhost:8080/"
        },
        "id": "HeTv3d2C4QZi",
        "outputId": "3b952e26-0b8e-461f-b2f2-313a1ae7befb"
      },
      "outputs": [
        {
          "name": "stdout",
          "output_type": "stream",
          "text": [
            "8\n"
          ]
        }
      ],
      "source": [
        "x=4\n",
        "y=4\n",
        "print(x+y)"
      ]
    },
    {
      "cell_type": "code",
      "execution_count": null,
      "metadata": {
        "colab": {
          "base_uri": "https://localhost:8080/"
        },
        "id": "rx68Fnej4Z2d",
        "outputId": "90cb65a2-35fc-4798-b24f-c9c0e7f9c7d0"
      },
      "outputs": [
        {
          "name": "stdout",
          "output_type": "stream",
          "text": [
            "44\n"
          ]
        }
      ],
      "source": [
        "x=\"4\"\n",
        "y=\"4\"\n",
        "print(x+y)"
      ]
    },
    {
      "cell_type": "code",
      "execution_count": null,
      "metadata": {
        "colab": {
          "base_uri": "https://localhost:8080/"
        },
        "id": "sq1UPpHC4_xM",
        "outputId": "8597ee58-0b95-4456-ea54-794118ab6988"
      },
      "outputs": [
        {
          "name": "stdout",
          "output_type": "stream",
          "text": [
            "14.4\n"
          ]
        }
      ],
      "source": [
        "x=10\n",
        "y=4.4\n",
        "print(x+y)"
      ]
    },
    {
      "cell_type": "code",
      "execution_count": null,
      "metadata": {
        "colab": {
          "base_uri": "https://localhost:8080/"
        },
        "id": "oZaOfTdP5J2f",
        "outputId": "e8733800-d555-4b67-9ea8-734b9007bb28"
      },
      "outputs": [
        {
          "name": "stdout",
          "output_type": "stream",
          "text": [
            "9.4\n"
          ]
        }
      ],
      "source": [
        "x=int(4)\n",
        "y=float(5.4)\n",
        "print(x+y)"
      ]
    },
    {
      "cell_type": "code",
      "execution_count": null,
      "metadata": {
        "colab": {
          "base_uri": "https://localhost:8080/"
        },
        "id": "pXdjYIXX5XrC",
        "outputId": "3e8a5db8-e1ce-48d5-fd07-b773d496bac1"
      },
      "outputs": [
        {
          "data": {
            "text/plain": [
              "int"
            ]
          },
          "execution_count": 5,
          "metadata": {},
          "output_type": "execute_result"
        }
      ],
      "source": [
        "x=44\n",
        "type(x)"
      ]
    },
    {
      "cell_type": "code",
      "execution_count": null,
      "metadata": {
        "colab": {
          "base_uri": "https://localhost:8080/"
        },
        "id": "otnWQKfA5eHB",
        "outputId": "12fb7ea3-e2c5-4013-be7e-898326421736"
      },
      "outputs": [
        {
          "data": {
            "text/plain": [
              "float"
            ]
          },
          "execution_count": 6,
          "metadata": {},
          "output_type": "execute_result"
        }
      ],
      "source": [
        "X=10.33\n",
        "type(X)"
      ]
    },
    {
      "cell_type": "code",
      "execution_count": null,
      "metadata": {
        "colab": {
          "base_uri": "https://localhost:8080/"
        },
        "id": "QRUQ2Soa6P2L",
        "outputId": "3ea262e9-5e30-412e-96a3-d4ac241d217c"
      },
      "outputs": [
        {
          "name": "stdout",
          "output_type": "stream",
          "text": [
            "sally\n"
          ]
        }
      ],
      "source": [
        "x=4\n",
        "x=\"sally\"\n",
        "print(x)"
      ]
    },
    {
      "cell_type": "code",
      "execution_count": null,
      "metadata": {
        "colab": {
          "base_uri": "https://localhost:8080/"
        },
        "id": "AE458zR17VrB",
        "outputId": "0caaced8-fd90-44bd-f9b9-55448585f61a"
      },
      "outputs": [
        {
          "name": "stdout",
          "output_type": "stream",
          "text": [
            "14\n"
          ]
        }
      ],
      "source": [
        "a=4\n",
        "b=10\n",
        "sum=a+b\n",
        "print(sum)"
      ]
    },
    {
      "cell_type": "code",
      "execution_count": null,
      "metadata": {
        "colab": {
          "base_uri": "https://localhost:8080/"
        },
        "id": "munp995ECM9Z",
        "outputId": "e78cd7f5-3406-491a-ee1b-87986fb02fa9"
      },
      "outputs": [
        {
          "name": "stdout",
          "output_type": "stream",
          "text": [
            "40\n"
          ]
        }
      ],
      "source": [
        "A=10\n",
        "B=4\n",
        "area=A*B # area of square\n",
        "print(area)"
      ]
    },
    {
      "cell_type": "code",
      "execution_count": null,
      "metadata": {
        "colab": {
          "base_uri": "https://localhost:8080/"
        },
        "id": "m8M77oG4Ch-V",
        "outputId": "e4774e18-f48d-4c86-86d4-9a3772afaaa4"
      },
      "outputs": [
        {
          "name": "stdout",
          "output_type": "stream",
          "text": [
            "100.0\n"
          ]
        }
      ],
      "source": [
        "L=10\n",
        "B=20\n",
        "area=(L*B)*0.5  # area of rectangle\n",
        "print(area)"
      ]
    },
    {
      "cell_type": "code",
      "execution_count": null,
      "metadata": {
        "colab": {
          "base_uri": "https://localhost:8080/"
        },
        "id": "Bihy3GOsEL68",
        "outputId": "6c5b3205-44ff-48da-ce01-f22a928b3988"
      },
      "outputs": [
        {
          "name": "stdout",
          "output_type": "stream",
          "text": [
            "44\n",
            "a is eligible\n"
          ]
        }
      ],
      "source": [
        "a=int(input())\n",
        "if(a>=18):\n",
        "    print(\"a is eligible\")\n",
        "else:\n",
        "    print(\"a is not eligible\")"
      ]
    },
    {
      "cell_type": "code",
      "execution_count": null,
      "metadata": {
        "colab": {
          "base_uri": "https://localhost:8080/"
        },
        "id": "52GWJC-kDIWH",
        "outputId": "ba24fcb5-cea2-4702-cd84-33fda17317ae"
      },
      "outputs": [
        {
          "name": "stdout",
          "output_type": "stream",
          "text": [
            "Eligible for vote : False True\n",
            "Not eligible for vote : True False\n"
          ]
        }
      ],
      "source": [
        "a=8\n",
        "b=44\n",
        "print(\"Eligible for vote :\",a>=18,b>=18)\n",
        "print(\"Not eligible for vote :\",a<=18,b<=18)"
      ]
    },
    {
      "cell_type": "code",
      "execution_count": null,
      "metadata": {
        "colab": {
          "base_uri": "https://localhost:8080/"
        },
        "id": "Ki8rgrm0ILbO",
        "outputId": "404898f6-f0bd-42bb-95ab-5d78e750c69a"
      },
      "outputs": [
        {
          "name": "stdout",
          "output_type": "stream",
          "text": [
            "8\n",
            "Even : True\n"
          ]
        }
      ],
      "source": [
        "A=int(input())\n",
        "print(\"Even :\",A%2==0)"
      ]
    },
    {
      "cell_type": "code",
      "execution_count": null,
      "metadata": {
        "colab": {
          "base_uri": "https://localhost:8080/"
        },
        "id": "C9wvFAbPJC5Z",
        "outputId": "1425938f-936d-4f4d-f550-a9cdc0243fb8"
      },
      "outputs": [
        {
          "name": "stdout",
          "output_type": "stream",
          "text": [
            "43\n",
            "odd\n"
          ]
        }
      ],
      "source": [
        "A=int(input())\n",
        "result =[\"Even\",\"odd\"] [A%2]\n",
        "print(result)"
      ]
    },
    {
      "cell_type": "code",
      "execution_count": null,
      "metadata": {
        "colab": {
          "base_uri": "https://localhost:8080/"
        },
        "id": "6vX9srEJ8EcK",
        "outputId": "bf4f52c7-2817-4340-f067-0be0f26692da"
      },
      "outputs": [
        {
          "name": "stdout",
          "output_type": "stream",
          "text": [
            "40\n",
            "buzz fizz\n"
          ]
        }
      ],
      "source": [
        "a=int(input())\n",
        "if(a%4==0 and a%5==0):\n",
        "    print(\"buzz fizz\")\n",
        "elif(a%5==0):\n",
        "    print(\"fizz\")\n",
        "elif(a%4==0):\n",
        "    print(\"buzz\")\n",
        "else:\n",
        "    print(\"no data\")"
      ]
    },
    {
      "cell_type": "code",
      "execution_count": null,
      "metadata": {
        "colab": {
          "base_uri": "https://localhost:8080/"
        },
        "id": "4L8ihV968yyz",
        "outputId": "ad15742f-483e-4f9f-e813-28ba67e31007"
      },
      "outputs": [
        {
          "name": "stdout",
          "output_type": "stream",
          "text": [
            "44\n",
            "FALSE\n"
          ]
        }
      ],
      "source": [
        "A=int(input())\n",
        "if(A<10):\n",
        "    print(\"TRUE\")\n",
        "else:\n",
        "    print(\"FALSE\")"
      ]
    },
    {
      "cell_type": "code",
      "execution_count": null,
      "metadata": {
        "colab": {
          "base_uri": "https://localhost:8080/"
        },
        "id": "ABm_nYiqDJ1i",
        "outputId": "526694dc-dcb9-49bc-eda1-e3284f3a7717"
      },
      "outputs": [
        {
          "name": "stdout",
          "output_type": "stream",
          "text": [
            "Blue\n",
            "not found\n"
          ]
        }
      ],
      "source": [
        "A=input()\n",
        "if(A==\"Green\"):\n",
        "    print(\"found\")\n",
        "else:\n",
        "    print(\"not found\")"
      ]
    },
    {
      "cell_type": "code",
      "execution_count": null,
      "metadata": {
        "colab": {
          "base_uri": "https://localhost:8080/"
        },
        "id": "4FPDYXVEFxxu",
        "outputId": "cdc2ef61-1525-4759-bd4e-76b0d1ff5fd7"
      },
      "outputs": [
        {
          "name": "stdout",
          "output_type": "stream",
          "text": [
            "4\n",
            "Gowri\n"
          ]
        }
      ],
      "source": [
        "A=int(input())\n",
        "if(A<10):\n",
        "    print(\"Gowri\")\n",
        "elif(A==10):\n",
        "    print(\"hello\")\n",
        "else:\n",
        "    print(\"Smile\")"
      ]
    },
    {
      "cell_type": "code",
      "execution_count": null,
      "metadata": {
        "colab": {
          "base_uri": "https://localhost:8080/"
        },
        "id": "lmgARmoRHubz",
        "outputId": "0147740c-ab6d-4b75-d39f-2821ea68ee71"
      },
      "outputs": [
        {
          "name": "stdout",
          "output_type": "stream",
          "text": [
            "44\n",
            "you can use the phone\n"
          ]
        }
      ],
      "source": [
        "A=int(input())\n",
        "if(A<20):\n",
        "    print(\"Put the charging\")\n",
        "elif(A>20 and A<50):\n",
        "    print(\"you can use the phone\")\n",
        "else:\n",
        "    print(\"battery is above 50\")"
      ]
    },
    {
      "cell_type": "code",
      "execution_count": null,
      "metadata": {
        "colab": {
          "base_uri": "https://localhost:8080/"
        },
        "id": "stG8-L-UMNDs",
        "outputId": "ee0fcbc2-4853-4fa8-807a-4b8991709d57"
      },
      "outputs": [
        {
          "name": "stdout",
          "output_type": "stream",
          "text": [
            "2\n",
            "4\n",
            "6\n",
            "8\n",
            "10\n"
          ]
        }
      ],
      "source": [
        "\n",
        "for i in range(2,11,2):\n",
        "    print(i)"
      ]
    },
    {
      "cell_type": "code",
      "execution_count": null,
      "metadata": {
        "colab": {
          "base_uri": "https://localhost:8080/"
        },
        "id": "91lD8nIgNNoV",
        "outputId": "bf33fb98-0005-4388-973d-f274c1be84fa"
      },
      "outputs": [
        {
          "name": "stdout",
          "output_type": "stream",
          "text": [
            "1\n",
            "3\n",
            "5\n",
            "7\n",
            "9\n"
          ]
        }
      ],
      "source": [
        "for i in range(1,10,2):\n",
        "    print(i)"
      ]
    },
    {
      "cell_type": "code",
      "execution_count": null,
      "metadata": {
        "colab": {
          "base_uri": "https://localhost:8080/"
        },
        "id": "t-epcME0QZqi",
        "outputId": "c088808e-d0c6-4f02-c7d8-bb1929091468"
      },
      "outputs": [
        {
          "name": "stdout",
          "output_type": "stream",
          "text": [
            "apple\n",
            "orange\n",
            "banana\n"
          ]
        }
      ],
      "source": [
        "fruit=[\"apple\",\"orange\",\"banana\"]\n",
        "for i in fruit :\n",
        "    print(i)"
      ]
    },
    {
      "cell_type": "code",
      "source": [
        "n=int(input())\n",
        "for i in range(1,n+1):\n",
        "  for j in range(1,n+1):\n",
        "    print (\"*\",end=\" \")\n",
        "  print()"
      ],
      "metadata": {
        "colab": {
          "base_uri": "https://localhost:8080/"
        },
        "id": "qLQOZNmCI1OB",
        "outputId": "45378ca7-d2c3-4f64-931a-1ab90efb42db"
      },
      "execution_count": null,
      "outputs": [
        {
          "output_type": "stream",
          "name": "stdout",
          "text": [
            "5\n",
            "* * * * * \n",
            "* * * * * \n",
            "* * * * * \n",
            "* * * * * \n",
            "* * * * * \n"
          ]
        }
      ]
    },
    {
      "cell_type": "code",
      "source": [
        "n=int(input())\n",
        "for i in range (1,n+1):\n",
        "  for j in range(1,n+1):\n",
        "    print(j,end=\" \")\n",
        "  print()"
      ],
      "metadata": {
        "colab": {
          "base_uri": "https://localhost:8080/"
        },
        "id": "kbQkvJL6KD88",
        "outputId": "fcd6a903-9e37-4439-b7bd-a762c8e16411"
      },
      "execution_count": null,
      "outputs": [
        {
          "output_type": "stream",
          "name": "stdout",
          "text": [
            "5\n",
            "1 2 3 4 5 \n",
            "1 2 3 4 5 \n",
            "1 2 3 4 5 \n",
            "1 2 3 4 5 \n",
            "1 2 3 4 5 \n"
          ]
        }
      ]
    }
  ],
  "metadata": {
    "colab": {
      "provenance": [],
      "authorship_tag": "ABX9TyPBt8tAKCBV+QPP7Xx+dCwE",
      "include_colab_link": true
    },
    "kernelspec": {
      "display_name": "Python 3",
      "name": "python3"
    },
    "language_info": {
      "name": "python"
    }
  },
  "nbformat": 4,
  "nbformat_minor": 0
}