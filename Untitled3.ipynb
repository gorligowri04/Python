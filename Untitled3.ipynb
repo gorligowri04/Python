{
  "nbformat": 4,
  "nbformat_minor": 0,
  "metadata": {
    "colab": {
      "provenance": [],
      "authorship_tag": "ABX9TyMrroQKoQBFFFh79MbYT9Tn",
      "include_colab_link": true
    },
    "kernelspec": {
      "name": "python3",
      "display_name": "Python 3"
    },
    "language_info": {
      "name": "python"
    }
  },
  "cells": [
    {
      "cell_type": "markdown",
      "metadata": {
        "id": "view-in-github",
        "colab_type": "text"
      },
      "source": [
        "<a href=\"https://colab.research.google.com/github/gorligowri04/Python/blob/main/Untitled3.ipynb\" target=\"_parent\"><img src=\"https://colab.research.google.com/assets/colab-badge.svg\" alt=\"Open In Colab\"/></a>"
      ]
    },
    {
      "cell_type": "code",
      "execution_count": null,
      "metadata": {
        "colab": {
          "base_uri": "https://localhost:8080/"
        },
        "id": "b8aoTG406X7X",
        "outputId": "e36adf37-74c2-4ac0-e7f4-ed54ad974dc9"
      },
      "outputs": [
        {
          "output_type": "stream",
          "name": "stdout",
          "text": [
            "(2+3j)\n",
            "<class 'complex'>\n"
          ]
        }
      ],
      "source": [
        "\n",
        "a=2+3j\n",
        "print(a)\n",
        "print(type(a))"
      ]
    },
    {
      "cell_type": "code",
      "source": [
        "a=True\n",
        "print(a)\n",
        "print(type(a))"
      ],
      "metadata": {
        "colab": {
          "base_uri": "https://localhost:8080/"
        },
        "id": "idfOLlEU6tuO",
        "outputId": "67f637e7-c55f-4311-945a-ad5b32d376fd"
      },
      "execution_count": null,
      "outputs": [
        {
          "output_type": "stream",
          "name": "stdout",
          "text": [
            "True\n",
            "<class 'bool'>\n"
          ]
        }
      ]
    },
    {
      "cell_type": "code",
      "source": [
        "a=[2,3,6,1]\n",
        "print(a)\n",
        "print(type(a))"
      ],
      "metadata": {
        "colab": {
          "base_uri": "https://localhost:8080/"
        },
        "id": "xxLUk1HP6yoE",
        "outputId": "ea03eeec-dcc2-42f6-e141-24374fbaa591"
      },
      "execution_count": null,
      "outputs": [
        {
          "output_type": "stream",
          "name": "stdout",
          "text": [
            "[2, 3, 6, 1]\n",
            "<class 'list'>\n"
          ]
        }
      ]
    }
  ]
}